{
 "cells": [
  {
   "cell_type": "code",
   "execution_count": 2,
   "id": "bd4b7c9d",
   "metadata": {},
   "outputs": [
    {
     "name": "stdout",
     "output_type": "stream",
     "text": [
      "Heyy manav to which floor you want to go\n",
      "The lift is on 0 Floor currently\n",
      "Which floor are you on currently: 4\n",
      "lift is coming to 4 floor\n",
      "The lift is here on  4 Floor to take you!!\n",
      "Do you wanna go to another floor[y/n]: n\n"
     ]
    }
   ],
   "source": [
    "import time\n",
    "from os import system\n",
    "class elevator:\n",
    "    lift_current=0\n",
    "    status=False\n",
    "    @staticmethod\n",
    "    def is_working():\n",
    "        elevator.status=True\n",
    "    def __init__(self,name):\n",
    "        self.name = name\n",
    "    def elevator_system(self):\n",
    "        if elevator.status:\n",
    "            print(\"Heyy {} to which floor you want to go\".format(self.name))\n",
    "            print(\"The lift is on {} Floor currently\".format(elevator.lift_current))\n",
    "            user=int(input(\"Which floor are you on currently: \"))\n",
    "            if not 0<=user<=9 :\n",
    "                print(\"Floor number must be between 0 and 9\")\n",
    "                system(\"cls\")\n",
    "                self.elevator_system()\n",
    "            else:\n",
    "                old=elevator.lift_current\n",
    "                elevator.lift_current =int(user)\n",
    "                new=elevator.lift_current\n",
    "                system(\"cls\")\n",
    "                print(\"lift is coming to {} floor\".format(elevator.lift_current))\n",
    "                if old>new:\n",
    "                    time.sleep(old-new)\n",
    "                    print(\"The lift is on {} Floor currently\".format(elevator.lift_current))\n",
    "                elif old<new:\n",
    "                    time.sleep(new-old)\n",
    "                    print(\"The lift is here on  {} Floor to take you!!\".format(elevator.lift_current))\n",
    "                else:\n",
    "                    print(\"The lift is on {} Floor currently\".format(elevator.lift_current))\n",
    "                y_or_n=str(input(\"Do you wanna go to another floor[y/n]: \"))\n",
    "                if y_or_n==\"y\":\n",
    "                    system(\"cls\")\n",
    "                    elevator.elevator_system(self)\n",
    "                else:\n",
    "                    system(\"cls\")\n",
    "        else:\n",
    "            print(\"The lift is currently not working\")\n",
    "elevator.is_working()\n",
    "user1=elevator(\"manav\")\n",
    "user1.elevator_system()"
   ]
  }
 ],
 "metadata": {
  "kernelspec": {
   "display_name": "Python 3 (ipykernel)",
   "language": "python",
   "name": "python3"
  },
  "language_info": {
   "codemirror_mode": {
    "name": "ipython",
    "version": 3
   },
   "file_extension": ".py",
   "mimetype": "text/x-python",
   "name": "python",
   "nbconvert_exporter": "python",
   "pygments_lexer": "ipython3",
   "version": "3.10.2"
  }
 },
 "nbformat": 4,
 "nbformat_minor": 5
}
