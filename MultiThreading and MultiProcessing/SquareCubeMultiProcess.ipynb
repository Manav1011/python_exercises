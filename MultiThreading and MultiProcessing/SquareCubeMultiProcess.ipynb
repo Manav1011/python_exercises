{
 "cells": [
  {
   "cell_type": "code",
   "execution_count": 2,
   "metadata": {},
   "outputs": [],
   "source": [
    "#multiprocessing\n",
    "\n",
    "import time\n",
    "import multiprocessing"
   ]
  },
  {
   "cell_type": "code",
   "execution_count": 3,
   "metadata": {},
   "outputs": [],
   "source": [
    "Numbers=[i for i in range(5)]"
   ]
  },
  {
   "cell_type": "code",
   "execution_count": 4,
   "metadata": {},
   "outputs": [],
   "source": [
    "def FindSquare(List):\n",
    "    for i in List:\n",
    "        time.sleep(3)\n",
    "        print(i*i)\n",
    "def FindCube(List):\n",
    "    for i in List:\n",
    "        time.sleep(3)\n",
    "        print(i*i*i)"
   ]
  },
  {
   "cell_type": "code",
   "execution_count": null,
   "metadata": {},
   "outputs": [],
   "source": [
    "#without Multiprocessing\n",
    "\n",
    "\n",
    "StartTime=time.time()\n",
    "FindSquare(Numbers)\n",
    "FindCube(Numbers)\n",
    "EndTime=time.time() - StartTime\n",
    "print(f\"Execution was completed in {EndTime}\")"
   ]
  },
  {
   "cell_type": "code",
   "execution_count": 14,
   "metadata": {},
   "outputs": [
    {
     "name": "stdout",
     "output_type": "stream",
     "text": [
      "Execution was completed in 0.12867069244384766\n"
     ]
    },
    {
     "ename": "",
     "evalue": "",
     "output_type": "error",
     "traceback": [
      "The Kernel crashed while executing code in the the current cell or a previous cell. Please review the code in the cell(s) to identify a possible cause of the failure. Click <a href='https://aka.ms/vscodeJupyterKernelCrash'>here</a> for more info. View Jupyter <a href='command:jupyter.viewOutput'>log</a> for further details."
     ]
    }
   ],
   "source": [
    "#with multiprocessing\n",
    "if __name__ == '__main__':\n",
    "    starttime=time.time()\n",
    "    p1=multiprocessing.Process(target=FindSquare,args=(Numbers,))\n",
    "    p2=multiprocessing.Process(target=FindCube,args=(Numbers,))\n",
    "    p1.start()\n",
    "    p2.start()\n",
    "    \n",
    "    p1.join()\n",
    "    p2.join()\n",
    "    \n",
    "    endtime=time.time()-starttime\n",
    "    \n",
    "    print(f\"Execution was completed in {endtime}\")\n",
    "\n",
    "\n"
   ]
  }
 ],
 "metadata": {
  "kernelspec": {
   "display_name": "Python 3.10.5 64-bit",
   "language": "python",
   "name": "python3"
  },
  "language_info": {
   "codemirror_mode": {
    "name": "ipython",
    "version": 3
   },
   "file_extension": ".py",
   "mimetype": "text/x-python",
   "name": "python",
   "nbconvert_exporter": "python",
   "pygments_lexer": "ipython3",
   "version": "3.10.5"
  },
  "orig_nbformat": 4,
  "vscode": {
   "interpreter": {
    "hash": "e2611f44f806f6d4bdec6164674388ade8a86ad4e81af7ef1563613438bedb91"
   }
  }
 },
 "nbformat": 4,
 "nbformat_minor": 2
}
