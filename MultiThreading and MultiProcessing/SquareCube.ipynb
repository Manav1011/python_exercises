{
 "cells": [
  {
   "cell_type": "code",
   "execution_count": 35,
   "metadata": {},
   "outputs": [
    {
     "name": "stdout",
     "output_type": "stream",
     "text": [
      "Execution Completed in 2.1804566383361816\n"
     ]
    }
   ],
   "source": [
    "#WITHOUT MULTITHREADING\n",
    "\n",
    "Numbers=[i for i in range(10)]\n",
    "import time\n",
    "def FindSquare(List):\n",
    "    SquareList=[]\n",
    "    for i in List:\n",
    "        time.sleep(0.1)\n",
    "        SquareList.append(i*i)\n",
    "    return SquareList\n",
    "def FindCube(List):\n",
    "    CubeList=[]\n",
    "    for i in List:\n",
    "        time.sleep(0.1)\n",
    "        CubeList.append(i*i*i)\n",
    "    return CubeList\n",
    "starttime=time.time()\n",
    "FindSquare(Numbers)\n",
    "FindCube(Numbers)\n",
    "endtime=time.time()-starttime\n",
    "print(f\"Execution Completed in {endtime}\")"
   ]
  },
  {
   "cell_type": "code",
   "execution_count": 36,
   "metadata": {},
   "outputs": [
    {
     "name": "stdout",
     "output_type": "stream",
     "text": [
      "Execution Completed in 1.0967624187469482\n"
     ]
    }
   ],
   "source": [
    "#WITH MULTITHREADING\n",
    "\n",
    "import threading\n",
    "\n",
    "Numbers=[i for i in range(10)]\n",
    "import time\n",
    "def FindSquare(List):\n",
    "    SquareList=[]\n",
    "    for i in List:\n",
    "        time.sleep(0.1)\n",
    "        SquareList.append(i*i)\n",
    "    return SquareList\n",
    "def FindCube(List):\n",
    "    CubeList=[]\n",
    "    for i in List:\n",
    "        time.sleep(0.1)\n",
    "        CubeList.append(i*i*i)\n",
    "    return CubeList\n",
    "\n",
    "starttime=time.time()\n",
    "\n",
    "t1=threading.Thread(target=FindSquare,args=(Numbers,))\n",
    "t2=threading.Thread(target=FindCube,args=(Numbers,))\n",
    "t1.start()\n",
    "t2.start()\n",
    "\n",
    "t1.join()\n",
    "t2.join()\n",
    "\n",
    "endtime=time.time()-starttime\n",
    "print(f\"Execution Completed in {endtime}\")"
   ]
  }
 ],
 "metadata": {
  "kernelspec": {
   "display_name": "Python 3.10.5 64-bit",
   "language": "python",
   "name": "python3"
  },
  "language_info": {
   "codemirror_mode": {
    "name": "ipython",
    "version": 3
   },
   "file_extension": ".py",
   "mimetype": "text/x-python",
   "name": "python",
   "nbconvert_exporter": "python",
   "pygments_lexer": "ipython3",
   "version": "3.10.5"
  },
  "orig_nbformat": 4,
  "vscode": {
   "interpreter": {
    "hash": "e2611f44f806f6d4bdec6164674388ade8a86ad4e81af7ef1563613438bedb91"
   }
  }
 },
 "nbformat": 4,
 "nbformat_minor": 2
}
